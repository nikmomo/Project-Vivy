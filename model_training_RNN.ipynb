{
 "cells": [
  {
   "cell_type": "markdown",
   "metadata": {},
   "source": [
    "# Model Use: *RNN w/ LSTM*"
   ]
  },
  {
   "cell_type": "markdown",
   "metadata": {},
   "source": [
    "# 1. Environement Setup"
   ]
  },
  {
   "cell_type": "code",
   "execution_count": 34,
   "metadata": {},
   "outputs": [],
   "source": [
    "import pandas as pd\n",
    "import numpy as np\n",
    "import tensorflow as tf\n",
    "from tensorflow.keras.models import Model\n",
    "from tensorflow.keras.layers import Input, LSTM, Dense\n",
    "from tensorflow.keras.optimizers import Adam\n",
    "from sklearn.model_selection import train_test_split\n",
    "\n",
    "file_path = 'normalized_output.csv'"
   ]
  },
  {
   "cell_type": "markdown",
   "metadata": {},
   "source": [
    "# 2. Data Processing"
   ]
  },
  {
   "cell_type": "code",
   "execution_count": 35,
   "metadata": {},
   "outputs": [],
   "source": [
    "# Load the data\n",
    "data = pd.read_csv(file_path)\n",
    "\n",
    "# Function to convert string representation of a list to an actual list\n",
    "def convert_string_to_list(string):\n",
    "    return np.fromstring(string[1:-1], sep=',')  # Assumes the format \"[1, 2, 3]\"\n",
    "\n",
    "# Assuming 'ph_seq_encoded' and 'note_seq_encoded' are strings representing lists\n",
    "X = np.array([convert_string_to_list(row) for row in data['ph_seq_encoded']])\n",
    "y_note = np.array([convert_string_to_list(row) for row in data['note_seq_encoded']])\n",
    "y_dur = np.array([convert_string_to_list(row) for row in data['ph_dur']])\n",
    "\n",
    "# Reshape the arrays\n",
    "X_reshaped = X.reshape((X.shape[0], X.shape[1], 1))\n",
    "y_note_reshaped = y_note.reshape((y_note.shape[0], y_note.shape[1], 1))\n",
    "y_dur_reshaped = y_dur.reshape((y_dur.shape[0], y_dur.shape[1], 1))\n",
    "\n",
    "# print(X_reshaped[0].dtype, y_note_reshaped[0].dtype, y_dur_reshaped[0].dtype)\n",
    "\n",
    "# Split the data into training and test sets\n",
    "X_train, X_test, y_note_train, y_note_test, y_dur_train, y_dur_test = train_test_split(\n",
    "    X_reshaped, y_note_reshaped, y_note_reshaped, test_size=0.3, random_state=42)"
   ]
  },
  {
   "cell_type": "markdown",
   "metadata": {},
   "source": [
    "# 3. Model Training"
   ]
  },
  {
   "cell_type": "code",
   "execution_count": 36,
   "metadata": {},
   "outputs": [
    {
     "name": "stdout",
     "output_type": "stream",
     "text": [
      "Epoch 1/10\n",
      "36/36 [==============================] - 12s 226ms/step - loss: 0.0586 - y_note_output_loss: 0.0270 - y_dur_output_loss: 0.0317 - val_loss: 0.0297 - val_y_note_output_loss: 0.0147 - val_y_dur_output_loss: 0.0150\n",
      "Epoch 2/10\n",
      "36/36 [==============================] - 7s 206ms/step - loss: 0.0311 - y_note_output_loss: 0.0155 - y_dur_output_loss: 0.0156 - val_loss: 0.0292 - val_y_note_output_loss: 0.0146 - val_y_dur_output_loss: 0.0146\n",
      "Epoch 3/10\n",
      "36/36 [==============================] - 7s 202ms/step - loss: 0.0309 - y_note_output_loss: 0.0154 - y_dur_output_loss: 0.0155 - val_loss: 0.0289 - val_y_note_output_loss: 0.0144 - val_y_dur_output_loss: 0.0145\n",
      "Epoch 4/10\n",
      "36/36 [==============================] - 7s 204ms/step - loss: 0.0307 - y_note_output_loss: 0.0153 - y_dur_output_loss: 0.0154 - val_loss: 0.0286 - val_y_note_output_loss: 0.0143 - val_y_dur_output_loss: 0.0144\n",
      "Epoch 5/10\n",
      "36/36 [==============================] - 7s 196ms/step - loss: 0.0305 - y_note_output_loss: 0.0152 - y_dur_output_loss: 0.0153 - val_loss: 0.0284 - val_y_note_output_loss: 0.0141 - val_y_dur_output_loss: 0.0142\n",
      "Epoch 6/10\n",
      "36/36 [==============================] - 7s 207ms/step - loss: 0.0303 - y_note_output_loss: 0.0151 - y_dur_output_loss: 0.0152 - val_loss: 0.0281 - val_y_note_output_loss: 0.0140 - val_y_dur_output_loss: 0.0141\n",
      "Epoch 7/10\n",
      "36/36 [==============================] - 9s 238ms/step - loss: 0.0301 - y_note_output_loss: 0.0150 - y_dur_output_loss: 0.0151 - val_loss: 0.0281 - val_y_note_output_loss: 0.0140 - val_y_dur_output_loss: 0.0141\n",
      "Epoch 8/10\n",
      "36/36 [==============================] - 8s 228ms/step - loss: 0.0299 - y_note_output_loss: 0.0148 - y_dur_output_loss: 0.0150 - val_loss: 0.0278 - val_y_note_output_loss: 0.0138 - val_y_dur_output_loss: 0.0140\n",
      "Epoch 9/10\n",
      "36/36 [==============================] - 8s 217ms/step - loss: 0.0298 - y_note_output_loss: 0.0148 - y_dur_output_loss: 0.0150 - val_loss: 0.0277 - val_y_note_output_loss: 0.0137 - val_y_dur_output_loss: 0.0140\n",
      "Epoch 10/10\n",
      "36/36 [==============================] - 8s 221ms/step - loss: 0.0297 - y_note_output_loss: 0.0148 - y_dur_output_loss: 0.0149 - val_loss: 0.0276 - val_y_note_output_loss: 0.0137 - val_y_dur_output_loss: 0.0139\n",
      "38/38 [==============================] - 2s 58ms/step - loss: 0.0312 - y_note_output_loss: 0.0156 - y_dur_output_loss: 0.0157\n"
     ]
    }
   ],
   "source": [
    "# Input layer\n",
    "input_layer = Input(shape=(X_train.shape[1], X_train.shape[2]))\n",
    "\n",
    "# LSTM layers\n",
    "lstm1 = LSTM(64, return_sequences=True)(input_layer)\n",
    "lstm2 = LSTM(32, return_sequences=True)(lstm1)\n",
    "\n",
    "# Output layers\n",
    "y_note_output = Dense(10, activation='relu')(lstm2)\n",
    "y_note_output = Dense(1, activation='sigmoid', name='y_note_output')(y_note_output)\n",
    "\n",
    "y_dur_output = Dense(10, activation='relu')(lstm2)\n",
    "y_dur_output = Dense(1, activation='sigmoid', name='y_dur_output')(y_dur_output)\n",
    "\n",
    "# Building the model\n",
    "model = Model(inputs=input_layer, outputs=[y_note_output, y_dur_output])\n",
    "\n",
    "# Compiling the model\n",
    "model.compile(optimizer='adam', loss='mean_squared_error')\n",
    "\n",
    "# Training the model\n",
    "history = model.fit(X_train, [y_note_train, y_dur_train], epochs=10, batch_size=64, validation_split=0.2)\n",
    "\n",
    "# Evaluate the model on the test set\n",
    "test_loss = model.evaluate(X_test, [y_note_test, y_dur_test])"
   ]
  },
  {
   "cell_type": "code",
   "execution_count": null,
   "metadata": {},
   "outputs": [],
   "source": [
    "# Save the model\n",
    "model.save('model.h5')"
   ]
  },
  {
   "cell_type": "markdown",
   "metadata": {},
   "source": [
    "# 4. Validation\n",
    "Put user input and get output"
   ]
  },
  {
   "cell_type": "markdown",
   "metadata": {},
   "source": [
    "### 4.1 Input"
   ]
  },
  {
   "cell_type": "code",
   "execution_count": 37,
   "metadata": {},
   "outputs": [],
   "source": [
    "import json\n",
    "import joblib\n",
    "from tensorflow.keras.preprocessing.sequence import pad_sequences\n",
    "\n",
    "# Load the encoding dictionary from the ph_token_to_int.json file\n",
    "with open('ph_token_to_int.json', 'r') as file:\n",
    "    ph_token_to_int = json.load(file)\n",
    "\n",
    "# Input sequence\n",
    "input_sequence = \"AP n ei f a g e n a j i f u y u a p u AP n ei f a g e n a l e y u d ao en AP\"\n",
    "\n",
    "# Split the input sequence into individual phonemes\n",
    "input_phonemes = input_sequence.split()\n",
    "\n",
    "# Convert the phonemes to their corresponding integers using the encoding dictionary\n",
    "encoded_sequence = [ph_token_to_int[phoneme] for phoneme in input_phonemes]\n",
    "\n",
    "# Convert the sequence to a numpy array and pad it to the right length\n",
    "ph_seq_encoded = np.array([encoded_sequence]) \n",
    "\n",
    "user_input = pad_sequences(ph_seq_encoded, maxlen=283, padding='post', truncating='post', dtype='float64')\n"
   ]
  },
  {
   "cell_type": "markdown",
   "metadata": {},
   "source": [
    "### 4.2 Inference"
   ]
  },
  {
   "cell_type": "code",
   "execution_count": 65,
   "metadata": {},
   "outputs": [
    {
     "name": "stdout",
     "output_type": "stream",
     "text": [
      "1/1 [==============================] - 0s 47ms/step\n",
      "(1, 283, 1) (1, 283, 1)\n"
     ]
    }
   ],
   "source": [
    "# Prediction\n",
    "y_note_pred, y_dur_pred = model.predict(user_input)\n",
    "print(y_note_pred.shape, y_note_pred.shape)"
   ]
  },
  {
   "cell_type": "markdown",
   "metadata": {},
   "source": [
    "### 4.3 Decoding"
   ]
  },
  {
   "cell_type": "code",
   "execution_count": 66,
   "metadata": {},
   "outputs": [
    {
     "name": "stdout",
     "output_type": "stream",
     "text": [
      "10.727909\n"
     ]
    }
   ],
   "source": [
    "# Resize the result\n",
    "input_length = len(encoded_sequence)\n",
    "y_note_pred = y_note_pred[:, :input_length, :]\n",
    "y_dur_pred = y_dur_pred[:, :input_length, :]\n",
    "\n",
    "# print(y_note_pred.shape, y_dur_pred.shape)\n",
    "\n",
    "# Load the saved scaler\n",
    "note_scaler = joblib.load('note_scaler.pkl')\n",
    "\n",
    "y_note_pred_flattened = y_note_pred.flatten()\n",
    "\n",
    "# Inverse transform the predictions\n",
    "y_note_pred_original = note_scaler.inverse_transform(y_note_pred_flattened.reshape(-1, 1))\n",
    "\n",
    "# Reshape back to the original shape if required\n",
    "y_note_pred_original = y_note_pred_original_scale.reshape(y_note_pred.shape)\n",
    "y_note_pred_original = np.round(y_note_pred_original).astype(int)\n",
    "\n",
    "f0_timestep = 0.005\n",
    "f0_seq_constant = 250.1\n",
    "\n",
    "total_time = np.sum(y_dur_pred)\n",
    "print(total_time)\n",
    "f0_size = int(total_time / f0_timestep)\n",
    "# print(f0_size)\n",
    "\n",
    "f0_seq = [f0_seq_constant] * f0_size\n"
   ]
  },
  {
   "cell_type": "markdown",
   "metadata": {},
   "source": [
    "### 4.4 Make it .ds file"
   ]
  },
  {
   "cell_type": "code",
   "execution_count": 67,
   "metadata": {},
   "outputs": [
    {
     "name": "stderr",
     "output_type": "stream",
     "text": [
      "C:\\Users\\Niko\\AppData\\Local\\Temp\\ipykernel_6804\\3238408921.py:2: DeprecationWarning: Conversion of an array with ndim > 0 to a scalar is deprecated, and will error in future. Ensure you extract a single element from your array before performing this operation. (Deprecated NumPy 1.25.)\n",
      "  y_note_pred_output = [int(i) for i in y_note_pred_flattened]\n",
      "C:\\Users\\Niko\\AppData\\Local\\Temp\\ipykernel_6804\\3238408921.py:5: DeprecationWarning: Conversion of an array with ndim > 0 to a scalar is deprecated, and will error in future. Ensure you extract a single element from your array before performing this operation. (Deprecated NumPy 1.25.)\n",
      "  y_dur_pred_output = [float(i) for i in y_dur_pred_flattened]\n"
     ]
    }
   ],
   "source": [
    "y_note_pred_flattened = y_note_pred_original[0]\n",
    "y_note_pred_output = [int(i) for i in y_note_pred_flattened]\n",
    "\n",
    "y_dur_pred_flattened = y_dur_pred[0]\n",
    "y_dur_pred_output = [float(i) for i in y_dur_pred_flattened]\n",
    "\n",
    "# Load the token-to-int mappings from the JSON files\n",
    "def load_mapping(file_path):\n",
    "    with open(file_path, 'r', encoding='utf-8') as f:\n",
    "        token_to_int = json.load(f)\n",
    "    # Invert the dictionary to create an int-to-token mapping\n",
    "    int_to_token = {v: k for k, v in token_to_int.items()}\n",
    "    return int_to_token\n",
    "\n",
    "# Decoding function using the mappings\n",
    "def decode_predictions(prediction_integers, mapping):\n",
    "    return [mapping.get(i, 'Unknown') for i in prediction_integers]\n",
    "\n",
    "note_int_to_token = load_mapping('note_token_to_int.json')\n",
    "\n",
    "decoded_note_seq = decode_predictions(y_note_pred_output, note_int_to_token)\n",
    "\n",
    "# Print or return the decoded sequences\n",
    "# print(\"Decoded Phonetic Sequence:\", input_phonemes)\n",
    "# print(\"Decoded Note Sequence:\", decoded_note_seq)\n",
    "\n",
    "ph_dur = ' '.join(map(str, y_dur_pred_output))\n",
    "note_seq = ' '.join(map(str, decoded_note_seq))\n",
    "f0_seq = ' '.join(map(str, f0_seq))\n",
    "\n",
    "file = {\n",
    "    'ph_seq': input_sequence,\n",
    "    'ph_dur': ph_dur,\n",
    "    'note_seq': note_seq,\n",
    "    'f0_seq': f0_seq,\n",
    "    'f0_timestep': f0_timestep\n",
    "}\n",
    "\n",
    "with open('rnn_output.ds', 'w') as json_file:\n",
    "    json.dump(file, json_file, indent=4)"
   ]
  }
 ],
 "metadata": {
  "kernelspec": {
   "display_name": "ProjectVivy",
   "language": "python",
   "name": "python3"
  },
  "language_info": {
   "codemirror_mode": {
    "name": "ipython",
    "version": 3
   },
   "file_extension": ".py",
   "mimetype": "text/x-python",
   "name": "python",
   "nbconvert_exporter": "python",
   "pygments_lexer": "ipython3",
   "version": "3.9.18"
  }
 },
 "nbformat": 4,
 "nbformat_minor": 2
}
