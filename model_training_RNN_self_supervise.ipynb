{
 "cells": [
  {
   "cell_type": "markdown",
   "metadata": {},
   "source": [
    "# Model Use: *RNN w/ LSTM Self-Supervised*"
   ]
  },
  {
   "cell_type": "markdown",
   "metadata": {},
   "source": [
    "# 1. Environement Setup"
   ]
  },
  {
   "cell_type": "code",
   "execution_count": 5,
   "metadata": {},
   "outputs": [],
   "source": [
    "import pandas as pd\n",
    "import numpy as np\n",
    "import tensorflow as tf\n",
    "from tensorflow.keras.models import Model\n",
    "from tensorflow.keras.layers import Input, LSTM, Dense\n",
    "from tensorflow.keras.optimizers import Adam\n",
    "from sklearn.model_selection import train_test_split\n",
    "\n",
    "file_path = 'normalized_output.csv'"
   ]
  },
  {
   "cell_type": "markdown",
   "metadata": {},
   "source": [
    "# 2. Data Processing"
   ]
  },
  {
   "cell_type": "code",
   "execution_count": 6,
   "metadata": {},
   "outputs": [],
   "source": [
    "# Load the data\n",
    "data = pd.read_csv(file_path)\n",
    "\n",
    "# Function to convert string representation of a list to an actual list\n",
    "def convert_string_to_list(string):\n",
    "    return np.fromstring(string[1:-1], sep=',')  # Assumes the format \"[1, 2, 3]\"\n",
    "\n",
    "# Assuming 'ph_seq_encoded' and 'note_seq_encoded' are strings representing lists\n",
    "X = np.array([convert_string_to_list(row) for row in data['ph_seq_encoded']])\n",
    "y_note = np.array([convert_string_to_list(row) for row in data['note_seq_encoded']])\n",
    "y_dur = np.array([convert_string_to_list(row) for row in data['ph_dur']])\n",
    "\n",
    "# Reshape the arrays\n",
    "X_reshaped = X.reshape((X.shape[0], X.shape[1], 1))\n",
    "y_note_reshaped = y_note.reshape((y_note.shape[0], y_note.shape[1], 1))\n",
    "y_dur_reshaped = y_dur.reshape((y_dur.shape[0], y_dur.shape[1], 1))\n",
    "\n",
    "# print(X_reshaped[0].dtype, y_note_reshaped[0].dtype, y_dur_reshaped[0].dtype)\n",
    "\n",
    "# Split the data into training and test sets\n",
    "X_train, X_test, y_note_train, y_note_test, y_dur_train, y_dur_test = train_test_split(\n",
    "    X_reshaped, y_note_reshaped, y_note_reshaped, test_size=0.3, random_state=42)"
   ]
  },
  {
   "cell_type": "markdown",
   "metadata": {},
   "source": [
    "# 3. Model Training"
   ]
  },
  {
   "cell_type": "code",
   "execution_count": 7,
   "metadata": {},
   "outputs": [
    {
     "name": "stdout",
     "output_type": "stream",
     "text": [
      "WARNING:tensorflow:From c:\\Users\\Niko\\anaconda3\\envs\\ProjectVivy\\lib\\site-packages\\keras\\src\\layers\\rnn\\lstm.py:148: The name tf.executing_eagerly_outside_functions is deprecated. Please use tf.compat.v1.executing_eagerly_outside_functions instead.\n",
      "\n",
      "WARNING:tensorflow:From c:\\Users\\Niko\\anaconda3\\envs\\ProjectVivy\\lib\\site-packages\\keras\\src\\optimizers\\__init__.py:309: The name tf.train.Optimizer is deprecated. Please use tf.compat.v1.train.Optimizer instead.\n",
      "\n",
      "Epoch 1/10\n",
      "WARNING:tensorflow:From c:\\Users\\Niko\\anaconda3\\envs\\ProjectVivy\\lib\\site-packages\\keras\\src\\utils\\tf_utils.py:492: The name tf.ragged.RaggedTensorValue is deprecated. Please use tf.compat.v1.ragged.RaggedTensorValue instead.\n",
      "\n",
      "WARNING:tensorflow:From c:\\Users\\Niko\\anaconda3\\envs\\ProjectVivy\\lib\\site-packages\\keras\\src\\engine\\base_layer_utils.py:384: The name tf.executing_eagerly_outside_functions is deprecated. Please use tf.compat.v1.executing_eagerly_outside_functions instead.\n",
      "\n"
     ]
    },
    {
     "ename": "ValueError",
     "evalue": "in user code:\n\n    File \"c:\\Users\\Niko\\anaconda3\\envs\\ProjectVivy\\lib\\site-packages\\keras\\src\\engine\\training.py\", line 1401, in train_function  *\n        return step_function(self, iterator)\n    File \"c:\\Users\\Niko\\anaconda3\\envs\\ProjectVivy\\lib\\site-packages\\keras\\src\\engine\\training.py\", line 1384, in step_function  **\n        outputs = model.distribute_strategy.run(run_step, args=(data,))\n    File \"c:\\Users\\Niko\\anaconda3\\envs\\ProjectVivy\\lib\\site-packages\\keras\\src\\engine\\training.py\", line 1373, in run_step  **\n        outputs = model.train_step(data)\n    File \"c:\\Users\\Niko\\anaconda3\\envs\\ProjectVivy\\lib\\site-packages\\keras\\src\\engine\\training.py\", line 1155, in train_step\n        return self.compute_metrics(x, y, y_pred, sample_weight)\n    File \"c:\\Users\\Niko\\anaconda3\\envs\\ProjectVivy\\lib\\site-packages\\keras\\src\\engine\\training.py\", line 1249, in compute_metrics\n        self.compiled_metrics.update_state(y, y_pred, sample_weight)\n    File \"c:\\Users\\Niko\\anaconda3\\envs\\ProjectVivy\\lib\\site-packages\\keras\\src\\engine\\compile_utils.py\", line 620, in update_state\n        metric_obj.update_state(y_t, y_p, sample_weight=mask)\n    File \"c:\\Users\\Niko\\anaconda3\\envs\\ProjectVivy\\lib\\site-packages\\keras\\src\\utils\\metrics_utils.py\", line 77, in decorated\n        result = update_state_fn(*args, **kwargs)\n    File \"c:\\Users\\Niko\\anaconda3\\envs\\ProjectVivy\\lib\\site-packages\\keras\\src\\metrics\\base_metric.py\", line 140, in update_state_fn\n        return ag_update_state(*args, **kwargs)\n    File \"c:\\Users\\Niko\\anaconda3\\envs\\ProjectVivy\\lib\\site-packages\\keras\\src\\metrics\\base_metric.py\", line 723, in update_state  **\n        matches = ag_fn(y_true, y_pred, **self._fn_kwargs)\n    File \"c:\\Users\\Niko\\anaconda3\\envs\\ProjectVivy\\lib\\site-packages\\keras\\src\\metrics\\accuracy_metrics.py\", line 459, in sparse_categorical_accuracy\n        matches = metrics_utils.sparse_categorical_matches(y_true, y_pred)\n    File \"c:\\Users\\Niko\\anaconda3\\envs\\ProjectVivy\\lib\\site-packages\\keras\\src\\utils\\metrics_utils.py\", line 961, in sparse_categorical_matches\n        y_true = tf.squeeze(y_true, [-1])\n\n    ValueError: Can not squeeze dim[1], expected a dimension of 1, got 283 for '{{node Squeeze}} = Squeeze[T=DT_FLOAT, squeeze_dims=[-1]](remove_squeezable_dimensions/Squeeze)' with input shapes: [?,283].\n",
     "output_type": "error",
     "traceback": [
      "\u001b[1;31m---------------------------------------------------------------------------\u001b[0m",
      "\u001b[1;31mValueError\u001b[0m                                Traceback (most recent call last)",
      "\u001b[1;32mc:\\Users\\Niko\\Documents\\GitHub\\Song-Generation-Model-with-Vocal-Project-Vivy\\model_training_RNN_self_supervise.ipynb 单元格 7\u001b[0m line \u001b[0;36m1\n\u001b[0;32m     <a href='vscode-notebook-cell:/c%3A/Users/Niko/Documents/GitHub/Song-Generation-Model-with-Vocal-Project-Vivy/model_training_RNN_self_supervise.ipynb#X10sZmlsZQ%3D%3D?line=9'>10</a>\u001b[0m model\u001b[39m.\u001b[39mcompile(optimizer\u001b[39m=\u001b[39m\u001b[39m'\u001b[39m\u001b[39madam\u001b[39m\u001b[39m'\u001b[39m, loss\u001b[39m=\u001b[39m\u001b[39m'\u001b[39m\u001b[39mmse\u001b[39m\u001b[39m'\u001b[39m, metrics\u001b[39m=\u001b[39m[\u001b[39m'\u001b[39m\u001b[39maccuracy\u001b[39m\u001b[39m'\u001b[39m])\n\u001b[0;32m     <a href='vscode-notebook-cell:/c%3A/Users/Niko/Documents/GitHub/Song-Generation-Model-with-Vocal-Project-Vivy/model_training_RNN_self_supervise.ipynb#X10sZmlsZQ%3D%3D?line=11'>12</a>\u001b[0m \u001b[39m# Train the model\u001b[39;00m\n\u001b[1;32m---> <a href='vscode-notebook-cell:/c%3A/Users/Niko/Documents/GitHub/Song-Generation-Model-with-Vocal-Project-Vivy/model_training_RNN_self_supervise.ipynb#X10sZmlsZQ%3D%3D?line=12'>13</a>\u001b[0m history \u001b[39m=\u001b[39m model\u001b[39m.\u001b[39;49mfit(X_train, y_note_train, epochs\u001b[39m=\u001b[39;49m\u001b[39m10\u001b[39;49m, batch_size\u001b[39m=\u001b[39;49m\u001b[39m32\u001b[39;49m, validation_data\u001b[39m=\u001b[39;49m(X_test, y_note_test))\n\u001b[0;32m     <a href='vscode-notebook-cell:/c%3A/Users/Niko/Documents/GitHub/Song-Generation-Model-with-Vocal-Project-Vivy/model_training_RNN_self_supervise.ipynb#X10sZmlsZQ%3D%3D?line=14'>15</a>\u001b[0m \u001b[39m# Evaluate the model\u001b[39;00m\n\u001b[0;32m     <a href='vscode-notebook-cell:/c%3A/Users/Niko/Documents/GitHub/Song-Generation-Model-with-Vocal-Project-Vivy/model_training_RNN_self_supervise.ipynb#X10sZmlsZQ%3D%3D?line=15'>16</a>\u001b[0m test_loss, test_acc \u001b[39m=\u001b[39m model\u001b[39m.\u001b[39mevaluate(X_test, y_note_test)\n",
      "File \u001b[1;32mc:\\Users\\Niko\\anaconda3\\envs\\ProjectVivy\\lib\\site-packages\\keras\\src\\utils\\traceback_utils.py:70\u001b[0m, in \u001b[0;36mfilter_traceback.<locals>.error_handler\u001b[1;34m(*args, **kwargs)\u001b[0m\n\u001b[0;32m     67\u001b[0m     filtered_tb \u001b[39m=\u001b[39m _process_traceback_frames(e\u001b[39m.\u001b[39m__traceback__)\n\u001b[0;32m     68\u001b[0m     \u001b[39m# To get the full stack trace, call:\u001b[39;00m\n\u001b[0;32m     69\u001b[0m     \u001b[39m# `tf.debugging.disable_traceback_filtering()`\u001b[39;00m\n\u001b[1;32m---> 70\u001b[0m     \u001b[39mraise\u001b[39;00m e\u001b[39m.\u001b[39mwith_traceback(filtered_tb) \u001b[39mfrom\u001b[39;00m \u001b[39mNone\u001b[39;00m\n\u001b[0;32m     71\u001b[0m \u001b[39mfinally\u001b[39;00m:\n\u001b[0;32m     72\u001b[0m     \u001b[39mdel\u001b[39;00m filtered_tb\n",
      "File \u001b[1;32m~\\AppData\\Local\\Temp\\__autograph_generated_filez1s03sn5.py:15\u001b[0m, in \u001b[0;36mouter_factory.<locals>.inner_factory.<locals>.tf__train_function\u001b[1;34m(iterator)\u001b[0m\n\u001b[0;32m     13\u001b[0m \u001b[39mtry\u001b[39;00m:\n\u001b[0;32m     14\u001b[0m     do_return \u001b[39m=\u001b[39m \u001b[39mTrue\u001b[39;00m\n\u001b[1;32m---> 15\u001b[0m     retval_ \u001b[39m=\u001b[39m ag__\u001b[39m.\u001b[39mconverted_call(ag__\u001b[39m.\u001b[39mld(step_function), (ag__\u001b[39m.\u001b[39mld(\u001b[39mself\u001b[39m), ag__\u001b[39m.\u001b[39mld(iterator)), \u001b[39mNone\u001b[39;00m, fscope)\n\u001b[0;32m     16\u001b[0m \u001b[39mexcept\u001b[39;00m:\n\u001b[0;32m     17\u001b[0m     do_return \u001b[39m=\u001b[39m \u001b[39mFalse\u001b[39;00m\n",
      "\u001b[1;31mValueError\u001b[0m: in user code:\n\n    File \"c:\\Users\\Niko\\anaconda3\\envs\\ProjectVivy\\lib\\site-packages\\keras\\src\\engine\\training.py\", line 1401, in train_function  *\n        return step_function(self, iterator)\n    File \"c:\\Users\\Niko\\anaconda3\\envs\\ProjectVivy\\lib\\site-packages\\keras\\src\\engine\\training.py\", line 1384, in step_function  **\n        outputs = model.distribute_strategy.run(run_step, args=(data,))\n    File \"c:\\Users\\Niko\\anaconda3\\envs\\ProjectVivy\\lib\\site-packages\\keras\\src\\engine\\training.py\", line 1373, in run_step  **\n        outputs = model.train_step(data)\n    File \"c:\\Users\\Niko\\anaconda3\\envs\\ProjectVivy\\lib\\site-packages\\keras\\src\\engine\\training.py\", line 1155, in train_step\n        return self.compute_metrics(x, y, y_pred, sample_weight)\n    File \"c:\\Users\\Niko\\anaconda3\\envs\\ProjectVivy\\lib\\site-packages\\keras\\src\\engine\\training.py\", line 1249, in compute_metrics\n        self.compiled_metrics.update_state(y, y_pred, sample_weight)\n    File \"c:\\Users\\Niko\\anaconda3\\envs\\ProjectVivy\\lib\\site-packages\\keras\\src\\engine\\compile_utils.py\", line 620, in update_state\n        metric_obj.update_state(y_t, y_p, sample_weight=mask)\n    File \"c:\\Users\\Niko\\anaconda3\\envs\\ProjectVivy\\lib\\site-packages\\keras\\src\\utils\\metrics_utils.py\", line 77, in decorated\n        result = update_state_fn(*args, **kwargs)\n    File \"c:\\Users\\Niko\\anaconda3\\envs\\ProjectVivy\\lib\\site-packages\\keras\\src\\metrics\\base_metric.py\", line 140, in update_state_fn\n        return ag_update_state(*args, **kwargs)\n    File \"c:\\Users\\Niko\\anaconda3\\envs\\ProjectVivy\\lib\\site-packages\\keras\\src\\metrics\\base_metric.py\", line 723, in update_state  **\n        matches = ag_fn(y_true, y_pred, **self._fn_kwargs)\n    File \"c:\\Users\\Niko\\anaconda3\\envs\\ProjectVivy\\lib\\site-packages\\keras\\src\\metrics\\accuracy_metrics.py\", line 459, in sparse_categorical_accuracy\n        matches = metrics_utils.sparse_categorical_matches(y_true, y_pred)\n    File \"c:\\Users\\Niko\\anaconda3\\envs\\ProjectVivy\\lib\\site-packages\\keras\\src\\utils\\metrics_utils.py\", line 961, in sparse_categorical_matches\n        y_true = tf.squeeze(y_true, [-1])\n\n    ValueError: Can not squeeze dim[1], expected a dimension of 1, got 283 for '{{node Squeeze}} = Squeeze[T=DT_FLOAT, squeeze_dims=[-1]](remove_squeezable_dimensions/Squeeze)' with input shapes: [?,283].\n"
     ]
    }
   ],
   "source": [
    "# Define the RNN model\n",
    "model = tf.keras.models.Sequential([\n",
    "    tf.keras.layers.LSTM(128, return_sequences=True, input_shape=(X_train.shape[1], X_train.shape[2])),\n",
    "    tf.keras.layers.LSTM(64),\n",
    "    tf.keras.layers.Dense(64, activation='relu'),\n",
    "    tf.keras.layers.Dense(y_note_train.shape[1])\n",
    "])\n",
    "\n",
    "# Compile the model\n",
    "model.compile(optimizer='adam', loss='mse', metrics=['accuracy'])\n",
    "\n",
    "# Train the model\n",
    "history = model.fit(X_train, y_note_train, epochs=10, batch_size=32, validation_data=(X_test, y_note_test))\n",
    "\n",
    "# Evaluate the model\n",
    "test_loss, test_acc = model.evaluate(X_test, y_note_test)\n",
    "print(f\"Test Loss: {test_loss}, Test Accuracy: {test_acc}\")\n",
    "\n"
   ]
  },
  {
   "cell_type": "code",
   "execution_count": null,
   "metadata": {},
   "outputs": [],
   "source": [
    "# Save the model\n",
    "model.save('model_self_supervised.h5')"
   ]
  },
  {
   "cell_type": "markdown",
   "metadata": {},
   "source": [
    "# 4. Validation\n",
    "Put user input and get output"
   ]
  },
  {
   "cell_type": "markdown",
   "metadata": {},
   "source": [
    "### 4.1 Input"
   ]
  },
  {
   "cell_type": "code",
   "execution_count": 77,
   "metadata": {},
   "outputs": [],
   "source": [
    "import json\n",
    "\n",
    "# Load the encoding dictionary from the ph_token_to_int.json file\n",
    "with open('ph_token_to_int.json', 'r') as file:\n",
    "    ph_token_to_int = json.load(file)\n",
    "\n",
    "# Your input sequence\n",
    "input_sequence = \"AP n ei f a g e n a j i f u y u a p u AP n ei f a g e n a l e y u d ao en AP\"\n",
    "\n",
    "# Split the input sequence into individual phonemes\n",
    "input_phonemes = input_sequence.split()\n",
    "\n",
    "# Convert the phonemes to their corresponding integers using the encoding dictionary\n",
    "encoded_sequence = [ph_token_to_int[phoneme] for phoneme in input_phonemes]\n",
    "\n",
    "\n",
    "# Reshape the sequence to be 2D as expected by the encoder\n",
    "encoded_sequence_array = np.array(encoded_sequence).reshape(-1, 1)\n",
    "\n",
    "# One-hot encode the sequence using the loaded encoder\n",
    "encoded_sequence_onehot = encoder.transform(encoded_sequence_array)\n",
    "\n",
    "padded_sequence = pad_sequences([encoded_sequence_onehot], maxlen=4449, padding='post', dtype='float')\n",
    "\n",
    "if padded_sequence.shape[2] != 123:\n",
    "    # Handle error: The one-hot encoded sequence does not match the number of features the model expects\n",
    "    # This may involve adding columns of zeros or otherwise adjusting the sequence to match the expected number of features\n",
    "    # For example:\n",
    "    new_shape = (padded_sequence.shape[0], 4449, 123)\n",
    "    new_padded_sequence = np.zeros(new_shape)\n",
    "    new_padded_sequence[:, :, :65] = padded_sequence  # Assuming the first 65 features match\n",
    "    padded_sequence = new_padded_sequence\n"
   ]
  },
  {
   "cell_type": "markdown",
   "metadata": {},
   "source": [
    "### 4.2 Inference"
   ]
  },
  {
   "cell_type": "code",
   "execution_count": 120,
   "metadata": {},
   "outputs": [
    {
     "name": "stdout",
     "output_type": "stream",
     "text": [
      "1/1 [==============================] - 0s 226ms/step\n"
     ]
    }
   ],
   "source": [
    "predictions = model.predict(padded_sequence)\n"
   ]
  },
  {
   "cell_type": "markdown",
   "metadata": {},
   "source": [
    "### 4.3 Decoding"
   ]
  },
  {
   "cell_type": "code",
   "execution_count": 121,
   "metadata": {},
   "outputs": [
    {
     "name": "stdout",
     "output_type": "stream",
     "text": [
      "Decoded Note Sequence: [[38 20 20 ... 20 20 20]]\n",
      "4449\n",
      "Inversed ph_dur: [0.06198255 0.06043197 0.05869877 ... 0.044998   0.044998   0.044998  ]\n",
      "4449\n",
      "Inversed f0_seq: [232.87163 232.66498 232.30423 ... 229.8     229.8     229.8    ]\n",
      "4449\n"
     ]
    }
   ],
   "source": [
    "# predicted_ph_dur, predicted_f0_seq, predicted_note_seq_encoded = predictions\n",
    "note_seq_pred = np.argmax(predictions[..., -num_note_categories:], axis=-1)  # Replace num_note_categories with the actual number\n",
    "\n",
    "ph_dur_pred_scaled = predictions[..., 1]  # Replace some_ph_dur_index with the actual index/indices\n",
    "note_seq_pred_scaled = predictions[..., 2]  # Replace some_ph_dur_index with the actual index/indices\n",
    "f0_seq_pred_scaled = predictions[..., 3]  # Replace some_f0_seq_index with the actual index/indices\n",
    "\n",
    "# Reshape the predictions to match the scaler's expected input\n",
    "ph_dur_pred_scaled = ph_dur_pred_scaled.reshape(-1, 1)\n",
    "note_seq_pred_scaled = note_seq_pred_scaled.reshape(-1, 1)\n",
    "f0_seq_pred_scaled = f0_seq_pred_scaled.reshape(-1, 1)\n",
    "\n",
    "# Use the scaler's inverse_transform method\n",
    "ph_dur_pred = scaler_ph_dur.inverse_transform(ph_dur_pred_scaled).flatten()\n",
    "f0_seq_pred = scaler_f0_seq.inverse_transform(f0_seq_pred_scaled).flatten()\n",
    "\n",
    "note_seq_pred = np.argmax(predictions[..., -num_note_categories:], axis=-1)  # Use the actual number of note categories\n",
    "\n",
    "# # Now you can print or return the decoded predictions\n",
    "# print(\"Decoded ph_dur:\", decoded_ph_dur_trimmed)\n",
    "# print(len(decoded_ph_dur_trimmed[0]))\n",
    "# if decoded_f0_seq is not None:\n",
    "#     print(\"Decoded f0_seq:\", decoded_f0_seq_trimmed)\n",
    "#     print(len(decoded_f0_seq_trimmed[0]))\n",
    "# print(\"Decoded note_seq_encoded:\", decoded_note_seq_encoded_trimmed)\n",
    "# print(len(decoded_note_seq_encoded_trimmed[0]))\n",
    "# Print the decoded sequences\n",
    "print('Decoded Note Sequence:', note_seq_pred)\n",
    "print(len(note_seq_pred[0]))\n",
    "print('Inversed ph_dur:', ph_dur_pred)\n",
    "print(len(ph_dur_pred))\n",
    "print('Inversed f0_seq:', f0_seq_pred)\n",
    "print(len(f0_seq_pred))"
   ]
  },
  {
   "cell_type": "markdown",
   "metadata": {},
   "source": [
    "### 4.4 Removing zeros"
   ]
  },
  {
   "cell_type": "code",
   "execution_count": 123,
   "metadata": {},
   "outputs": [
    {
     "name": "stdout",
     "output_type": "stream",
     "text": [
      "1.6352285332977772\n",
      "f0 size 327\n",
      "Decoded ph_dur without trailing zeros: [0.06198255 0.06043197 0.05869877 0.05523891 0.04858048 0.04534776\n",
      " 0.04500405 0.04499801 0.044998   0.044998   0.044998   0.044998\n",
      " 0.044998   0.044998   0.044998   0.044998   0.044998   0.044998\n",
      " 0.044998   0.044998   0.044998   0.044998   0.044998   0.044998\n",
      " 0.044998   0.044998   0.044998   0.044998   0.044998   0.044998\n",
      " 0.044998   0.044998   0.044998   0.044998   0.044998  ]\n",
      "35\n",
      "Decoded f0_seq without trailing zeros: [232.87163, 232.66498, 232.30423, 231.74814, 230.56653, 229.8877, 229.80173, 229.8, 229.8, 229.8, 229.8, 229.8, 229.8, 229.8, 229.8, 229.8, 229.8, 229.8, 229.8, 229.8, 229.8, 229.8, 229.8, 229.8, 229.8, 229.8, 229.8, 229.8, 229.8, 229.8, 229.8, 229.8, 229.8, 229.8, 229.8, 229.8, 229.8, 229.8, 229.8, 229.8, 229.8, 229.8, 229.8, 229.8, 229.8, 229.8, 229.8, 229.8, 229.8, 229.8, 229.8, 229.8, 229.8, 229.8, 229.8, 229.8, 229.8, 229.8, 229.8, 229.8, 229.8, 229.8, 229.8, 229.8, 229.8, 229.8, 229.8, 229.8, 229.8, 229.8, 229.8, 229.8, 229.8, 229.8, 229.8, 229.8, 229.8, 229.8, 229.8, 229.8, 229.8, 229.8, 229.8, 229.8, 229.8, 229.8, 229.8, 229.8, 229.8, 229.8, 229.8, 229.8, 229.8, 229.8, 229.8, 229.8, 229.8, 229.8, 229.8, 229.8, 229.8, 229.8, 229.8, 229.8, 229.8, 229.8, 229.8, 229.8, 229.8, 229.8, 229.8, 229.8, 229.8, 229.8, 229.8, 229.8, 229.8, 229.8, 229.8, 229.8, 229.8, 229.8, 229.8, 229.8, 229.8, 229.8, 229.8, 229.8, 229.8, 229.8, 229.8, 229.8, 229.8, 229.8, 229.8, 229.8, 229.8, 229.8, 229.8, 229.8, 229.8, 229.8, 229.8, 229.8, 229.8, 229.8, 229.8, 229.8, 229.8, 229.8, 229.8, 229.8, 229.8, 229.8, 229.8, 229.8, 229.8, 229.8, 229.8, 229.8, 229.8, 229.8, 229.8, 229.8, 229.8, 229.8, 229.8, 229.8, 229.8, 229.8, 229.8, 229.8, 229.8, 229.8, 229.8, 229.8, 229.8, 229.8, 229.8, 229.8, 229.8, 229.8, 229.8, 229.8, 229.8, 229.8, 229.8, 229.8, 229.8, 229.8, 229.8, 229.8, 229.8, 229.8, 229.8, 229.8, 229.8, 229.8, 229.8, 229.8, 229.8, 229.8, 229.8, 229.8, 229.8, 229.8, 229.8, 229.8, 229.8, 229.8, 229.8, 229.8, 229.8, 229.8, 229.8, 229.8, 229.8, 229.8, 229.8, 229.8, 229.8, 229.8, 229.8, 229.8, 229.8, 229.8, 229.8, 229.8, 229.8, 229.8, 229.8, 229.8, 229.8, 229.8, 229.8, 229.8, 229.8, 229.8, 229.8, 229.8, 229.8, 229.8, 229.8, 229.8, 229.8, 229.8, 229.8, 229.8, 229.8, 229.8, 229.8, 229.8, 229.8, 229.8, 229.8, 229.8, 229.8, 229.8, 229.8, 229.8, 229.8, 229.8, 229.8, 229.8, 229.8, 229.8, 229.8, 229.8, 229.8, 229.8, 229.8, 229.8, 229.8, 229.8, 229.8, 229.8, 229.8, 229.8, 229.8, 229.8, 229.8, 229.8, 229.8, 229.8, 229.8, 229.8, 229.8, 229.8, 229.8, 229.8, 229.8, 229.8, 229.8, 229.8, 229.8, 229.8, 229.8, 229.8, 229.8, 229.8, 229.8, 229.8, 229.8, 229.8, 229.8, 229.8, 229.8, 229.8, 229.8, 229.8, 229.8, 229.8, 229.8, 229.8, 229.8, 229.8, 229.8, 229.8, 229.8, 229.8, 229.8, 229.8, 229.8, 229.8, 229.8, 229.8, 229.8]\n",
      "327\n",
      "Decoded note_seq_encoded without trailing zeros: [38 20 20 20 20 20 20 20 20 20 20 20 20 20 20 20 20 20 20 20 20 20 20 20\n",
      " 20 20 20 20 20 20 20 20 20 20 20]\n",
      "35\n",
      "35\n"
     ]
    }
   ],
   "source": [
    "f0_timestep = 0.005\n",
    "f0_constant = 205.1\n",
    "\n",
    "note_seq_pred = note_seq_pred[0]\n",
    "\n",
    "def remove_trailing_zeros(sequence):\n",
    "    # Find the last non-zero element in the sequence\n",
    "    last_non_zero = -1\n",
    "    for i in range(len(sequence) - 1, -1, -1):\n",
    "        if sequence[i] != 0:\n",
    "            last_non_zero = i\n",
    "            break\n",
    "    # Slice the sequence to remove trailing zeros\n",
    "    return sequence[:last_non_zero + 1] if last_non_zero != -1 else sequence\n",
    "\n",
    "# Apply this function to each of your predicted sequences\n",
    "# decoded_ph_dur_no_zeros = remove_trailing_zeros(ph_dur_pred)\n",
    "# decoded_f0_seq_no_zeros = remove_trailing_zeros(f0_seq_pred)\n",
    "# decoded_note_seq_encoded_no_zeros = remove_trailing_zeros(note_seq_pred)\n",
    "\n",
    "if len(ph_dur_pred) > len(input_phonemes):\n",
    "        # Truncate the sequence if it's longer\n",
    "    ph_dur_pred = ph_dur_pred[:len(input_phonemes)]\n",
    "elif len(ph_dur_pred) < len(input_phonemes):\n",
    "    # Pad the sequence with zeros if it's shorter\n",
    "    ph_dur_pred = np.pad(ph_dur_pred, (0, len(input_phonemes) - len(ph_dur_pred)), 'constant')\n",
    "    \n",
    "if len(note_seq_pred) > len(input_phonemes):\n",
    "    # Truncate the sequence if it's longer\n",
    "    note_seq_pred = note_seq_pred[:len(input_phonemes)]\n",
    "elif len(note_seq_pred) < len(input_phonemes):\n",
    "    # Pad the sequence with zeros if it's shorter\n",
    "    note_seq_pred = np.pad(note_seq_pred, (0, len(input_phonemes) - len(ph_dur_pred)), 'constant')\n",
    "\n",
    "\n",
    "total_time = sum(ph_dur_pred)\n",
    "\n",
    "print(total_time)\n",
    "f0_size = int(total_time / f0_timestep)\n",
    "print('f0 size', f0_size)\n",
    "# Replace non-positive values with the specified constant\n",
    "decoded_f0_seq_no_zeros = [x if x > 0 else f0_constant for x in f0_seq_pred]\n",
    "\n",
    "# Pad sequence with the constant value if it's shorter than the target length\n",
    "if len(decoded_f0_seq_no_zeros) < f0_size:\n",
    "    decoded_f0_seq_no_zeros = np.pad(decoded_f0_seq_no_zeros, (0, f0_size - len(decoded_f0_seq_no_zeros)), 'constant', constant_values=(f0_constant,))\n",
    "\n",
    "# Or truncate if it's longer than the target length (just for safety)\n",
    "elif len(decoded_f0_seq_no_zeros) > f0_size:\n",
    "    decoded_f0_seq_no_zeros = decoded_f0_seq_no_zeros[:f0_size]\n",
    "\n",
    "# Now you have your sequences with trailing zeros removed\n",
    "print(\"Decoded ph_dur without trailing zeros:\", ph_dur_pred)\n",
    "print(len(ph_dur_pred))\n",
    "if decoded_f0_seq_no_zeros is not None:\n",
    "    print(\"Decoded f0_seq without trailing zeros:\", decoded_f0_seq_no_zeros)\n",
    "    print(len(decoded_f0_seq_no_zeros))\n",
    "print(\"Decoded note_seq_encoded without trailing zeros:\", note_seq_pred)\n",
    "print(len(note_seq_pred))\n",
    "print(len(input_phonemes))"
   ]
  },
  {
   "cell_type": "markdown",
   "metadata": {},
   "source": [
    "### 4.5 Make it .ds file"
   ]
  },
  {
   "cell_type": "code",
   "execution_count": 125,
   "metadata": {},
   "outputs": [
    {
     "name": "stdout",
     "output_type": "stream",
     "text": [
      "Decoded Phonetic Sequence: ['AP', 'n', 'ei', 'f', 'a', 'g', 'e', 'n', 'a', 'j', 'i', 'f', 'u', 'y', 'u', 'a', 'p', 'u', 'AP', 'n', 'ei', 'f', 'a', 'g', 'e', 'n', 'a', 'l', 'e', 'y', 'u', 'd', 'ao', 'en', 'AP']\n",
      "Decoded Note Sequence: ['G#3', 'F#4', 'F#4', 'F#4', 'F#4', 'F#4', 'F#4', 'F#4', 'F#4', 'F#4', 'F#4', 'F#4', 'F#4', 'F#4', 'F#4', 'F#4', 'F#4', 'F#4', 'F#4', 'F#4', 'F#4', 'F#4', 'F#4', 'F#4', 'F#4', 'F#4', 'F#4', 'F#4', 'F#4', 'F#4', 'F#4', 'F#4', 'F#4', 'F#4', 'F#4']\n"
     ]
    }
   ],
   "source": [
    "# use input_phonemes\n",
    "\n",
    "# Load the token-to-int mappings from the JSON files\n",
    "def load_mapping(file_path):\n",
    "    with open(file_path, 'r', encoding='utf-8') as f:\n",
    "        token_to_int = json.load(f)\n",
    "    # Invert the dictionary to create an int-to-token mapping\n",
    "    int_to_token = {v: k for k, v in token_to_int.items()}\n",
    "    return int_to_token\n",
    "\n",
    "# Decoding function using the mappings\n",
    "def decode_predictions(prediction_integers, mapping):\n",
    "    return [mapping.get(i, 'Unknown') for i in prediction_integers]\n",
    "\n",
    "note_int_to_token = load_mapping('note_token_to_int.json')\n",
    "\n",
    "predicted_note_seq_integers = note_seq_pred\n",
    "\n",
    "decoded_note_seq = decode_predictions(predicted_note_seq_integers, note_int_to_token)\n",
    "\n",
    "# Print or return the decoded sequences\n",
    "print(\"Decoded Phonetic Sequence:\", input_phonemes)\n",
    "print(\"Decoded Note Sequence:\", decoded_note_seq)\n",
    "\n",
    "ph_dur = ' '.join(map(str, ph_dur_pred))\n",
    "note_seq = ' '.join(map(str, decoded_note_seq))\n",
    "f0_seq = ' '.join(map(str, decoded_f0_seq_no_zeros))\n",
    "\n",
    "file = {\n",
    "    'ph_seq': input_sequence,\n",
    "    'ph_dur': ph_dur,\n",
    "    'note_seq': note_seq,\n",
    "    'f0_seq': f0_seq,\n",
    "    'f0_timestep': f0_timestep\n",
    "}\n",
    "\n",
    "with open('rnn_output.ds', 'w') as json_file:\n",
    "    json.dump(file, json_file, indent=4)"
   ]
  }
 ],
 "metadata": {
  "kernelspec": {
   "display_name": "ProjectVivy",
   "language": "python",
   "name": "python3"
  },
  "language_info": {
   "codemirror_mode": {
    "name": "ipython",
    "version": 3
   },
   "file_extension": ".py",
   "mimetype": "text/x-python",
   "name": "python",
   "nbconvert_exporter": "python",
   "pygments_lexer": "ipython3",
   "version": "3.9.18"
  }
 },
 "nbformat": 4,
 "nbformat_minor": 2
}
